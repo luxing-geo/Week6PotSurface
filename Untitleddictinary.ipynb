{
  "nbformat": 4,
  "nbformat_minor": 0,
  "metadata": {
    "colab": {
      "name": "Untitled0.ipynb",
      "provenance": [],
      "authorship_tag": "ABX9TyNJ5UMOgyb6nxYJu77b5S9d",
      "include_colab_link": true
    },
    "kernelspec": {
      "name": "python3",
      "display_name": "Python 3"
    }
  },
  "cells": [
    {
      "cell_type": "markdown",
      "metadata": {
        "id": "view-in-github",
        "colab_type": "text"
      },
      "source": [
        "<a href=\"https://colab.research.google.com/github/luxing-geo/Week6PotSurface/blob/master/Untitleddictinary.ipynb\" target=\"_parent\"><img src=\"https://colab.research.google.com/assets/colab-badge.svg\" alt=\"Open In Colab\"/></a>"
      ]
    },
    {
      "cell_type": "code",
      "metadata": {
        "id": "0MgFiaiyESai",
        "colab_type": "code",
        "colab": {
          "base_uri": "https://localhost:8080/",
          "height": 34
        },
        "outputId": "364b5b51-5125-48ed-acbc-f58a55b185b5"
      },
      "source": [
        "#example dictionary big ten footbal champions\n",
        "B10Champs={'2014':['Ohio State', '14-1'],'2015':['Michigan State','12-2'],'2016':['Penn State','11-3']}  # key \n",
        "print(B10Champs['2014'])"
      ],
      "execution_count": 6,
      "outputs": [
        {
          "output_type": "stream",
          "text": [
            "['Ohio State', '14-1']\n"
          ],
          "name": "stdout"
        }
      ]
    },
    {
      "cell_type": "code",
      "metadata": {
        "id": "VELA9a7fEhz4",
        "colab_type": "code",
        "colab": {
          "base_uri": "https://localhost:8080/",
          "height": 68
        },
        "outputId": "1a2fc686-d4f0-4821-8c33-a196d4e372b5"
      },
      "source": [
        "for key, value in B10Champs.items():\n",
        "  print('The',key,'Big 10 Football Chanmpion was',value[0], 'A RECORD', value[1])"
      ],
      "execution_count": 8,
      "outputs": [
        {
          "output_type": "stream",
          "text": [
            "The 2014 Big 10 Football Chanmpion was Ohio State A RECORD 14-1\n",
            "The 2015 Big 10 Football Chanmpion was Michigan State A RECORD 12-2\n",
            "The 2016 Big 10 Football Chanmpion was Penn State A RECORD 11-3\n"
          ],
          "name": "stdout"
        }
      ]
    },
    {
      "cell_type": "markdown",
      "metadata": {
        "id": "u9SPiLj1EgIJ",
        "colab_type": "text"
      },
      "source": [
        ""
      ]
    }
  ]
}